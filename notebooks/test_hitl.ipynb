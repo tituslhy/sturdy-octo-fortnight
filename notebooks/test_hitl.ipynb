{
 "cells": [
  {
   "cell_type": "code",
   "execution_count": 2,
   "id": "07b65a21",
   "metadata": {},
   "outputs": [],
   "source": [
    "%load_ext autoreload\n",
    "%autoreload 2"
   ]
  },
  {
   "cell_type": "code",
   "execution_count": 3,
   "id": "7061fd2b",
   "metadata": {},
   "outputs": [],
   "source": [
    "from llama_index.llms.ollama import Ollama\n",
    "from llama_index.core.agent.workflow import FunctionAgent, AgentStream\n",
    "from llama_index.core.workflow import (\n",
    "    Context, InputRequiredEvent, HumanResponseEvent, JsonSerializer\n",
    ")"
   ]
  },
  {
   "cell_type": "code",
   "execution_count": 4,
   "id": "41f4a1ab",
   "metadata": {},
   "outputs": [],
   "source": [
    "import nest_asyncio\n",
    "nest_asyncio.apply()"
   ]
  },
  {
   "cell_type": "code",
   "execution_count": 5,
   "id": "0f07f594",
   "metadata": {},
   "outputs": [],
   "source": [
    "async def dangerous_task(ctx: Context) -> str:\n",
    "    \"\"\"A dangerous task that requires human confirmation.\"\"\"\n",
    "    \n",
    "    question = \"Are you sure you want to proceed?\"\n",
    "    response = await ctx.wait_for_event(\n",
    "        HumanResponseEvent,\n",
    "        waiter_id=question,\n",
    "        waiter_event=InputRequiredEvent(\n",
    "            prefix=question,\n",
    "            user_name=\"Titus\"\n",
    "        ),\n",
    "        requirements={\"user_name\": \"Titus\"}\n",
    "    )\n",
    "    \n",
    "    if response.response.strip().lower() == \"yes\":\n",
    "        return \"Dangerous task completed successfully.\"\n",
    "    else:\n",
    "        return \"Dangerous task aborted\""
   ]
  },
  {
   "cell_type": "code",
   "execution_count": 6,
   "id": "bec7f560",
   "metadata": {},
   "outputs": [],
   "source": [
    "llm = Ollama(model=\"qwen2.5\", temperature=0)\n",
    "    \n",
    "agent = FunctionAgent(\n",
    "    llm=llm,\n",
    "    tools=[dangerous_task],\n",
    "    system_prompt=\"You are a helpful assistant that can perform dangerous tasks with human approval.\"\n",
    ")"
   ]
  },
  {
   "cell_type": "code",
   "execution_count": 7,
   "id": "1c245dac",
   "metadata": {},
   "outputs": [
    {
     "name": "stdout",
     "output_type": "stream",
     "text": [
      "Are you sure you want to proceed?\n",
      "The dangerous task has been completed successfully. Please note that such tasks should always be performed with caution and under proper supervision.The dangerous task has been completed successfully. Please note that such tasks should always be performed with caution and under proper supervision.\n"
     ]
    }
   ],
   "source": [
    "ctx = Context(agent)\n",
    "query = \"I want to proceed with the dangerous task.\"\n",
    "handler = agent.run(query, ctx=ctx)\n",
    "input_ev = None\n",
    "\n",
    "async for event in handler.stream_events():\n",
    "    if isinstance(event, AgentStream):\n",
    "        print(event.delta, end=\"\", flush=True)\n",
    "    if isinstance(event, InputRequiredEvent):\n",
    "        print(event.prefix)\n",
    "        input_ev = event\n",
    "        break\n",
    "\n",
    "ctx_dict = handler.ctx.to_dict(serializer=JsonSerializer())\n",
    "\n",
    "restored_ctx = Context.from_dict(agent, ctx_dict, serializer=JsonSerializer())\n",
    "handler = agent.run(ctx=restored_ctx)\n",
    "handler.ctx.send_event(\n",
    "    HumanResponseEvent(\n",
    "        response=\"yes\",\n",
    "        user_name=input_ev.user_name,\n",
    "    )\n",
    ")\n",
    "async for event in handler.stream_events():\n",
    "    if isinstance(event, AgentStream):\n",
    "        print(event.delta, end=\"\", flush=True)\n",
    "    if isinstance(event, InputRequiredEvent):\n",
    "        print(event.prefix)\n",
    "        input_ev = event\n",
    "        break\n",
    "\n",
    "response = await handler\n",
    "print(str(response))"
   ]
  },
  {
   "cell_type": "code",
   "execution_count": null,
   "id": "a8ca966d",
   "metadata": {},
   "outputs": [],
   "source": []
  }
 ],
 "metadata": {
  "kernelspec": {
   "display_name": "sturdy-octo-fortnight",
   "language": "python",
   "name": "python3"
  },
  "language_info": {
   "codemirror_mode": {
    "name": "ipython",
    "version": 3
   },
   "file_extension": ".py",
   "mimetype": "text/x-python",
   "name": "python",
   "nbconvert_exporter": "python",
   "pygments_lexer": "ipython3",
   "version": "3.12.5"
  }
 },
 "nbformat": 4,
 "nbformat_minor": 5
}
